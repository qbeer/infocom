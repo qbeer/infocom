{
 "cells": [
  {
   "cell_type": "code",
   "execution_count": 1,
   "metadata": {},
   "outputs": [
    {
     "name": "stdout",
     "output_type": "stream",
     "text": [
      "Populating the interactive namespace from numpy and matplotlib\n"
     ]
    }
   ],
   "source": [
    "%pylab inline"
   ]
  },
  {
   "cell_type": "code",
   "execution_count": 2,
   "metadata": {},
   "outputs": [],
   "source": [
    "import pingparsing as pp\n",
    "import json\n",
    "import glob\n",
    "from pathlib import Path\n",
    "import requests\n",
    "import ipinfo\n",
    "import pickle"
   ]
  },
  {
   "cell_type": "code",
   "execution_count": 3,
   "metadata": {},
   "outputs": [],
   "source": [
    "files = glob.glob(\"./homework01/URLS/*.txt\")"
   ]
  },
  {
   "cell_type": "code",
   "execution_count": 4,
   "metadata": {},
   "outputs": [],
   "source": [
    "def parse_results(file_paths):\n",
    "    results = dict()\n",
    "    parser = pp.PingParsing()\n",
    "    for PATH in file_paths:\n",
    "        url = Path(PATH).stem\n",
    "        with open(PATH, \"r\") as f:\n",
    "                content = f.read()\n",
    "        if len(content) < 1:\n",
    "            continue\n",
    "        results[url] = {\"info\" : None, \"replies\" : None}\n",
    "        _content = parser.parse(content)\n",
    "        results[url][\"info\"] = _content.as_dict()\n",
    "        results[url][\"replies\"] = _content.icmp_replies\n",
    "        ip_start_index = content.find(' (') + 2\n",
    "        ip_end_index = content.find(')')\n",
    "        results[url]['ip'] = content[ip_start_index:ip_end_index]\n",
    "    return results"
   ]
  },
  {
   "cell_type": "code",
   "execution_count": 5,
   "metadata": {},
   "outputs": [],
   "source": [
    "results = parse_results(files)"
   ]
  },
  {
   "cell_type": "code",
   "execution_count": 6,
   "metadata": {},
   "outputs": [
    {
     "data": {
      "text/plain": [
       "['nwacc.edu',\n",
       " 'sebc.edu',\n",
       " 'obu.edu',\n",
       " 'mesacc.edu',\n",
       " 'saumag.edu',\n",
       " 'northark.edu',\n",
       " 'ozarks.edu',\n",
       " 'oakwood.edu',\n",
       " 'jsu.edu',\n",
       " 'hsu.edu',\n",
       " 'gadsdenstate.edu',\n",
       " 'harding.edu',\n",
       " 'montevallo.edu',\n",
       " 'trenholmstate.edu',\n",
       " 'uah.edu',\n",
       " 'atu.edu',\n",
       " 'nau.edu',\n",
       " 'calhoun.edu',\n",
       " 'maricopa.edu',\n",
       " 'cbc.edu',\n",
       " 'escc.edu',\n",
       " 'bryan.edu',\n",
       " 'ua.edu',\n",
       " 'hendrix.edu',\n",
       " 'npc.edu',\n",
       " 'aum.edu',\n",
       " 'ualr.edu',\n",
       " 'nwscc.edu',\n",
       " 'olaralex.com',\n",
       " 'lbwcc.edu',\n",
       " 'una.edu',\n",
       " 'nacc.edu',\n",
       " 'aamu.edu',\n",
       " 'arizona.edu',\n",
       " 'troy.edu',\n",
       " 'pccua.edu',\n",
       " 'bsc.edu',\n",
       " 'snead.edu',\n",
       " 'uca.edu',\n",
       " 'uark.edu',\n",
       " 'uams.edu',\n",
       " 'huntingdon.edu',\n",
       " 'wbcoll.edu',\n",
       " 'samford.edu',\n",
       " 'azwestern.edu',\n",
       " 'uab.edu',\n",
       " 'alaska.edu',\n",
       " 'auburn.edu',\n",
       " 'phoenix.edu',\n",
       " 'centralaz.edu',\n",
       " 'southalabama.edu',\n",
       " 'seark.edu',\n",
       " 'gccaz.edu',\n",
       " 'anc.edu',\n",
       " 'athens.edu',\n",
       " 'tuskegee.edu',\n",
       " 'jbu.edu',\n",
       " 'lyon.edu',\n",
       " 'uaccb.edu',\n",
       " 'uaf.edu',\n",
       " 'alaskacc.edu',\n",
       " 'gcu.edu',\n",
       " 'nwti.edu']"
      ]
     },
     "execution_count": 6,
     "metadata": {},
     "output_type": "execute_result"
    }
   ],
   "source": [
    "list(results.keys())"
   ]
  },
  {
   "cell_type": "code",
   "execution_count": 7,
   "metadata": {},
   "outputs": [],
   "source": [
    "access_token = 'c0cb3c3430ba62'\n",
    "handler = ipinfo.getHandler(access_token)\n",
    "\n",
    "def get_geo_location(ip):\n",
    "    details = handler.getDetails(ip)\n",
    "    return np.array(details.loc.split(',')).astype(float).tolist()"
   ]
  },
  {
   "cell_type": "code",
   "execution_count": null,
   "metadata": {},
   "outputs": [],
   "source": [
    "ip_to_location = dict()\n",
    "\n",
    "for url in results.keys():\n",
    "    ip = results[url]['ip']\n",
    "    location = get_geo_location(ip)\n",
    "    ip_to_location[ip] = location"
   ]
  },
  {
   "cell_type": "code",
   "execution_count": null,
   "metadata": {},
   "outputs": [],
   "source": [
    "ip_to_location"
   ]
  },
  {
   "cell_type": "code",
   "execution_count": null,
   "metadata": {},
   "outputs": [],
   "source": [
    "f = open(\"geo_locations.pkl\",\"wb\")\n",
    "pickle.dump(ip_to_location, f)\n",
    "f.close()"
   ]
  }
 ],
 "metadata": {
  "file_extension": ".py",
  "kernelspec": {
   "display_name": "Python 3",
   "language": "python",
   "name": "python3"
  },
  "language_info": {
   "codemirror_mode": {
    "name": "ipython",
    "version": 3
   },
   "file_extension": ".py",
   "mimetype": "text/x-python",
   "name": "python",
   "nbconvert_exporter": "python",
   "pygments_lexer": "ipython3",
   "version": "3.5.2"
  },
  "mimetype": "text/x-python",
  "name": "python",
  "npconvert_exporter": "python",
  "pygments_lexer": "ipython3",
  "version": 3
 },
 "nbformat": 4,
 "nbformat_minor": 2
}
